{
 "cells": [
  {
   "cell_type": "markdown",
   "id": "83c9b42f-3945-4d18-a760-ee1a9dbaa57d",
   "metadata": {},
   "source": [
    "# This Notebook"
   ]
  },
  {
   "cell_type": "markdown",
   "id": "9300f195-f110-4103-9cb7-c7a9758b4ac1",
   "metadata": {},
   "source": [
    "In this notebook, we'll explore relationships between and integrity in data stored in json from the files `receipts.json`, `users.json`, and `brands.json`. Our stakeholder, Fetch Rewards, has asked us to:\n",
    "1. Develop a Structured Relational Data Model\n",
    "2. Query the Database using SQL to provide business intelligence\n",
    "3. Evaluate the data for issues in quality\n",
    "\n",
    "At the end of this notebook, there will be a summary answering the main data evaluation questions, for the purpose of meeting requirement 3."
   ]
  },
  {
   "cell_type": "markdown",
   "id": "ee97db3a-48eb-4f54-aae1-32ce2cb78371",
   "metadata": {},
   "source": [
    "## Exploring Provided Data Files"
   ]
  },
  {
   "cell_type": "markdown",
   "id": "38fa0096-8f83-4a79-a376-d3ca8a72e476",
   "metadata": {},
   "source": [
    "To be able to provide answers to the above, we must first have a strong understanding of the information available. Exploring the data will allow us to determine how we can structure our data warehouse by finding relationships between the tables, reveal what we may need to ask for from our stakeholders in providing insight, and expose problems with how the data is currently stored."
   ]
  },
  {
   "cell_type": "code",
   "execution_count": 1,
   "id": "673e8e33-a3b4-4c21-8e7f-7ff78af8c27e",
   "metadata": {},
   "outputs": [],
   "source": [
    "import pandas as pd\n",
    "import json"
   ]
  },
  {
   "cell_type": "code",
   "execution_count": 2,
   "id": "d348f3e9-68ec-49d9-892f-f09f40543fa8",
   "metadata": {},
   "outputs": [],
   "source": [
    "receipts_df = pd.read_json('./data/receipts.json.gz', lines = 'true')\n",
    "users_df = pd.read_json('./data/users.json.gz', lines = 'true')\n",
    "brands_df = pd.read_json('./data/brands.json.gz', lines = 'true')"
   ]
  },
  {
   "cell_type": "markdown",
   "id": "6734faf7-ac12-4552-9fe5-b1fc570cd868",
   "metadata": {},
   "source": [
    "Pandas is a good tool for looking at and working with tabular data, storing data in SQL table-like structures called dataframes. We've read our files into these dataframes and can explore the columns. For receipts, we are given information about the columns:\n",
    "```\n",
    "    _id: uuid for this receipt\n",
    "    bonusPointsEarned: Number of bonus points that were awarded upon receipt completion\n",
    "    bonusPointsEarnedReason: event that triggered bonus points\n",
    "    createDate: The date that the event was created\n",
    "    dateScanned: Date that the user scanned their receipt\n",
    "    finishedDate: Date that the receipt finished processing\n",
    "    modifyDate: The date the event was modified\n",
    "    pointsAwardedDate: The date we awarded points for the transaction\n",
    "    pointsEarned: The number of points earned for the receipt\n",
    "    purchaseDate: the date of the purchase\n",
    "    purchasedItemCount: Count of number of items on the receipt\n",
    "    rewardsReceiptItemList: The items that were purchased on the receipt\n",
    "    rewardsReceiptStatus: status of the receipt through receipt validation and processing\n",
    "    totalSpent: The total amount on the receipt\n",
    "    userId: string id back to the User collection for the user who scanned the receipt\n",
    "```"
   ]
  },
  {
   "cell_type": "code",
   "execution_count": 3,
   "id": "56e12baf-f12b-4d71-a007-e34bbe3f0b3b",
   "metadata": {},
   "outputs": [
    {
     "data": {
      "text/html": [
       "<div>\n",
       "<style scoped>\n",
       "    .dataframe tbody tr th:only-of-type {\n",
       "        vertical-align: middle;\n",
       "    }\n",
       "\n",
       "    .dataframe tbody tr th {\n",
       "        vertical-align: top;\n",
       "    }\n",
       "\n",
       "    .dataframe thead th {\n",
       "        text-align: right;\n",
       "    }\n",
       "</style>\n",
       "<table border=\"1\" class=\"dataframe\">\n",
       "  <thead>\n",
       "    <tr style=\"text-align: right;\">\n",
       "      <th></th>\n",
       "      <th>_id</th>\n",
       "      <th>bonusPointsEarned</th>\n",
       "      <th>bonusPointsEarnedReason</th>\n",
       "      <th>createDate</th>\n",
       "      <th>dateScanned</th>\n",
       "      <th>finishedDate</th>\n",
       "      <th>modifyDate</th>\n",
       "      <th>pointsAwardedDate</th>\n",
       "      <th>pointsEarned</th>\n",
       "      <th>purchaseDate</th>\n",
       "      <th>purchasedItemCount</th>\n",
       "      <th>rewardsReceiptItemList</th>\n",
       "      <th>rewardsReceiptStatus</th>\n",
       "      <th>totalSpent</th>\n",
       "      <th>userId</th>\n",
       "    </tr>\n",
       "  </thead>\n",
       "  <tbody>\n",
       "    <tr>\n",
       "      <th>0</th>\n",
       "      <td>{'$oid': '5ff1e1eb0a720f0523000575'}</td>\n",
       "      <td>500.0</td>\n",
       "      <td>Receipt number 2 completed, bonus point schedu...</td>\n",
       "      <td>{'$date': 1609687531000}</td>\n",
       "      <td>{'$date': 1609687531000}</td>\n",
       "      <td>{'$date': 1609687531000}</td>\n",
       "      <td>{'$date': 1609687536000}</td>\n",
       "      <td>{'$date': 1609687531000}</td>\n",
       "      <td>500.0</td>\n",
       "      <td>{'$date': 1609632000000}</td>\n",
       "      <td>5.0</td>\n",
       "      <td>[{'barcode': '4011', 'description': 'ITEM NOT ...</td>\n",
       "      <td>FINISHED</td>\n",
       "      <td>26.0</td>\n",
       "      <td>5ff1e1eacfcf6c399c274ae6</td>\n",
       "    </tr>\n",
       "    <tr>\n",
       "      <th>1</th>\n",
       "      <td>{'$oid': '5ff1e1bb0a720f052300056b'}</td>\n",
       "      <td>150.0</td>\n",
       "      <td>Receipt number 5 completed, bonus point schedu...</td>\n",
       "      <td>{'$date': 1609687483000}</td>\n",
       "      <td>{'$date': 1609687483000}</td>\n",
       "      <td>{'$date': 1609687483000}</td>\n",
       "      <td>{'$date': 1609687488000}</td>\n",
       "      <td>{'$date': 1609687483000}</td>\n",
       "      <td>150.0</td>\n",
       "      <td>{'$date': 1609601083000}</td>\n",
       "      <td>2.0</td>\n",
       "      <td>[{'barcode': '4011', 'description': 'ITEM NOT ...</td>\n",
       "      <td>FINISHED</td>\n",
       "      <td>11.0</td>\n",
       "      <td>5ff1e194b6a9d73a3a9f1052</td>\n",
       "    </tr>\n",
       "    <tr>\n",
       "      <th>2</th>\n",
       "      <td>{'$oid': '5ff1e1f10a720f052300057a'}</td>\n",
       "      <td>5.0</td>\n",
       "      <td>All-receipts receipt bonus</td>\n",
       "      <td>{'$date': 1609687537000}</td>\n",
       "      <td>{'$date': 1609687537000}</td>\n",
       "      <td>NaN</td>\n",
       "      <td>{'$date': 1609687542000}</td>\n",
       "      <td>NaN</td>\n",
       "      <td>5.0</td>\n",
       "      <td>{'$date': 1609632000000}</td>\n",
       "      <td>1.0</td>\n",
       "      <td>[{'needsFetchReview': False, 'partnerItemId': ...</td>\n",
       "      <td>REJECTED</td>\n",
       "      <td>10.0</td>\n",
       "      <td>5ff1e1f1cfcf6c399c274b0b</td>\n",
       "    </tr>\n",
       "    <tr>\n",
       "      <th>3</th>\n",
       "      <td>{'$oid': '5ff1e1ee0a7214ada100056f'}</td>\n",
       "      <td>5.0</td>\n",
       "      <td>All-receipts receipt bonus</td>\n",
       "      <td>{'$date': 1609687534000}</td>\n",
       "      <td>{'$date': 1609687534000}</td>\n",
       "      <td>{'$date': 1609687534000}</td>\n",
       "      <td>{'$date': 1609687539000}</td>\n",
       "      <td>{'$date': 1609687534000}</td>\n",
       "      <td>5.0</td>\n",
       "      <td>{'$date': 1609632000000}</td>\n",
       "      <td>4.0</td>\n",
       "      <td>[{'barcode': '4011', 'description': 'ITEM NOT ...</td>\n",
       "      <td>FINISHED</td>\n",
       "      <td>28.0</td>\n",
       "      <td>5ff1e1eacfcf6c399c274ae6</td>\n",
       "    </tr>\n",
       "    <tr>\n",
       "      <th>4</th>\n",
       "      <td>{'$oid': '5ff1e1d20a7214ada1000561'}</td>\n",
       "      <td>5.0</td>\n",
       "      <td>All-receipts receipt bonus</td>\n",
       "      <td>{'$date': 1609687506000}</td>\n",
       "      <td>{'$date': 1609687506000}</td>\n",
       "      <td>{'$date': 1609687511000}</td>\n",
       "      <td>{'$date': 1609687511000}</td>\n",
       "      <td>{'$date': 1609687506000}</td>\n",
       "      <td>5.0</td>\n",
       "      <td>{'$date': 1609601106000}</td>\n",
       "      <td>2.0</td>\n",
       "      <td>[{'barcode': '4011', 'description': 'ITEM NOT ...</td>\n",
       "      <td>FINISHED</td>\n",
       "      <td>1.0</td>\n",
       "      <td>5ff1e194b6a9d73a3a9f1052</td>\n",
       "    </tr>\n",
       "  </tbody>\n",
       "</table>\n",
       "</div>"
      ],
      "text/plain": [
       "                                    _id  bonusPointsEarned  \\\n",
       "0  {'$oid': '5ff1e1eb0a720f0523000575'}              500.0   \n",
       "1  {'$oid': '5ff1e1bb0a720f052300056b'}              150.0   \n",
       "2  {'$oid': '5ff1e1f10a720f052300057a'}                5.0   \n",
       "3  {'$oid': '5ff1e1ee0a7214ada100056f'}                5.0   \n",
       "4  {'$oid': '5ff1e1d20a7214ada1000561'}                5.0   \n",
       "\n",
       "                             bonusPointsEarnedReason  \\\n",
       "0  Receipt number 2 completed, bonus point schedu...   \n",
       "1  Receipt number 5 completed, bonus point schedu...   \n",
       "2                         All-receipts receipt bonus   \n",
       "3                         All-receipts receipt bonus   \n",
       "4                         All-receipts receipt bonus   \n",
       "\n",
       "                 createDate               dateScanned  \\\n",
       "0  {'$date': 1609687531000}  {'$date': 1609687531000}   \n",
       "1  {'$date': 1609687483000}  {'$date': 1609687483000}   \n",
       "2  {'$date': 1609687537000}  {'$date': 1609687537000}   \n",
       "3  {'$date': 1609687534000}  {'$date': 1609687534000}   \n",
       "4  {'$date': 1609687506000}  {'$date': 1609687506000}   \n",
       "\n",
       "               finishedDate                modifyDate  \\\n",
       "0  {'$date': 1609687531000}  {'$date': 1609687536000}   \n",
       "1  {'$date': 1609687483000}  {'$date': 1609687488000}   \n",
       "2                       NaN  {'$date': 1609687542000}   \n",
       "3  {'$date': 1609687534000}  {'$date': 1609687539000}   \n",
       "4  {'$date': 1609687511000}  {'$date': 1609687511000}   \n",
       "\n",
       "          pointsAwardedDate  pointsEarned              purchaseDate  \\\n",
       "0  {'$date': 1609687531000}         500.0  {'$date': 1609632000000}   \n",
       "1  {'$date': 1609687483000}         150.0  {'$date': 1609601083000}   \n",
       "2                       NaN           5.0  {'$date': 1609632000000}   \n",
       "3  {'$date': 1609687534000}           5.0  {'$date': 1609632000000}   \n",
       "4  {'$date': 1609687506000}           5.0  {'$date': 1609601106000}   \n",
       "\n",
       "   purchasedItemCount                             rewardsReceiptItemList  \\\n",
       "0                 5.0  [{'barcode': '4011', 'description': 'ITEM NOT ...   \n",
       "1                 2.0  [{'barcode': '4011', 'description': 'ITEM NOT ...   \n",
       "2                 1.0  [{'needsFetchReview': False, 'partnerItemId': ...   \n",
       "3                 4.0  [{'barcode': '4011', 'description': 'ITEM NOT ...   \n",
       "4                 2.0  [{'barcode': '4011', 'description': 'ITEM NOT ...   \n",
       "\n",
       "  rewardsReceiptStatus  totalSpent                    userId  \n",
       "0             FINISHED        26.0  5ff1e1eacfcf6c399c274ae6  \n",
       "1             FINISHED        11.0  5ff1e194b6a9d73a3a9f1052  \n",
       "2             REJECTED        10.0  5ff1e1f1cfcf6c399c274b0b  \n",
       "3             FINISHED        28.0  5ff1e1eacfcf6c399c274ae6  \n",
       "4             FINISHED         1.0  5ff1e194b6a9d73a3a9f1052  "
      ]
     },
     "execution_count": 3,
     "metadata": {},
     "output_type": "execute_result"
    }
   ],
   "source": [
    "receipts_df.head()"
   ]
  },
  {
   "cell_type": "markdown",
   "id": "aa5d3e93-94ea-4677-9bfd-c8cd4eff5044",
   "metadata": {},
   "source": [
    "I'm noticing that a lot of the columns, such as the date columns and the id column, have nested structures. We will have to ask whether it is necessary to store information in this way, or if it can be cleaned in retrieval or prior to database storage, as it will add extra steps in processing. I will also need information on how to convert these data codes to translate these date codes into an interpretable format. First questions are regarding the full content of `rewardsReceiptItemList` and `bonusPointsEarnedReason`, so lets check the first entry of each of those. "
   ]
  },
  {
   "cell_type": "code",
   "execution_count": 4,
   "id": "399c577a-2c62-4a01-b857-f0a260e75776",
   "metadata": {},
   "outputs": [
    {
     "data": {
      "text/plain": [
       "[{'barcode': '4011',\n",
       "  'description': 'ITEM NOT FOUND',\n",
       "  'finalPrice': '26.00',\n",
       "  'itemPrice': '26.00',\n",
       "  'needsFetchReview': False,\n",
       "  'partnerItemId': '1',\n",
       "  'preventTargetGapPoints': True,\n",
       "  'quantityPurchased': 5,\n",
       "  'userFlaggedBarcode': '4011',\n",
       "  'userFlaggedNewItem': True,\n",
       "  'userFlaggedPrice': '26.00',\n",
       "  'userFlaggedQuantity': 5}]"
      ]
     },
     "execution_count": 4,
     "metadata": {},
     "output_type": "execute_result"
    }
   ],
   "source": [
    "receipts_df['rewardsReceiptItemList'][0]"
   ]
  },
  {
   "cell_type": "markdown",
   "id": "a92e91ca-1d9b-45fa-849d-5e205ace33fe",
   "metadata": {},
   "source": [
    "Hmm.. 'ITEM NOT FOUND'? Also, this one column has a lot of information in it. It would probably be best to make this its own table in the database, and add a column for the `receipt_id` as a foreign key so that it could be linked back to the receipts table."
   ]
  },
  {
   "cell_type": "code",
   "execution_count": 5,
   "id": "a6920de8-3b7c-416c-8d32-3a506862e356",
   "metadata": {},
   "outputs": [
    {
     "data": {
      "text/plain": [
       "'Receipt number 2 completed, bonus point schedule DEFAULT (5cefdcacf3693e0b50e83a36)'"
      ]
     },
     "execution_count": 5,
     "metadata": {},
     "output_type": "execute_result"
    }
   ],
   "source": [
    "receipts_df['bonusPointsEarnedReason'][0]"
   ]
  },
  {
   "cell_type": "markdown",
   "id": "b25093c7-7d43-4b0a-abf2-9b0d475a224e",
   "metadata": {},
   "source": [
    "From this entry, it seems as if there is a increasing return for customers based on the number of receipts submitted, as well as different progression schedules. We will have to ask our stakeholder about this. I'm wondering if `bonusPointsEarned` and `pointsEarned` are the same, as they look equivalent in the first few rows."
   ]
  },
  {
   "cell_type": "code",
   "execution_count": 6,
   "id": "627c7982-2c5b-463e-bdf9-c2e162380180",
   "metadata": {},
   "outputs": [
    {
     "data": {
      "text/plain": [
       "False    768\n",
       "True     351\n",
       "dtype: int64"
      ]
     },
     "execution_count": 6,
     "metadata": {},
     "output_type": "execute_result"
    }
   ],
   "source": [
    "(receipts_df['bonusPointsEarned'] == receipts_df['pointsEarned']).value_counts()"
   ]
  },
  {
   "cell_type": "markdown",
   "id": "b18c4922-bab9-412b-a124-552975f87712",
   "metadata": {},
   "source": [
    "Not entirely, but more information is required. There are a few other columns that look like they might always be the same, such as `createDate` and `dateScanned`."
   ]
  },
  {
   "cell_type": "code",
   "execution_count": 7,
   "id": "09280d80-bce2-4b69-ad99-8d40b84868d9",
   "metadata": {},
   "outputs": [
    {
     "data": {
      "text/plain": [
       "True     1118\n",
       "False       1\n",
       "dtype: int64"
      ]
     },
     "execution_count": 7,
     "metadata": {},
     "output_type": "execute_result"
    }
   ],
   "source": [
    "(receipts_df['createDate'] == receipts_df['dateScanned']).value_counts()"
   ]
  },
  {
   "cell_type": "markdown",
   "id": "c7c0d832-14b9-4cc9-8694-1102eb93defd",
   "metadata": {},
   "source": [
    "Hmm.. almost always. They may not necessarily be, I suppose, if someone started working on an event but got distracted and for some reason scanned the receipt in later days."
   ]
  },
  {
   "cell_type": "code",
   "execution_count": 8,
   "id": "8174aded-8c34-4811-acb6-b315ffe6547d",
   "metadata": {},
   "outputs": [
    {
     "name": "stdout",
     "output_type": "stream",
     "text": [
      "<class 'pandas.core.frame.DataFrame'>\n",
      "RangeIndex: 1119 entries, 0 to 1118\n",
      "Data columns (total 15 columns):\n",
      " #   Column                   Non-Null Count  Dtype  \n",
      "---  ------                   --------------  -----  \n",
      " 0   _id                      1119 non-null   object \n",
      " 1   bonusPointsEarned        544 non-null    float64\n",
      " 2   bonusPointsEarnedReason  544 non-null    object \n",
      " 3   createDate               1119 non-null   object \n",
      " 4   dateScanned              1119 non-null   object \n",
      " 5   finishedDate             568 non-null    object \n",
      " 6   modifyDate               1119 non-null   object \n",
      " 7   pointsAwardedDate        537 non-null    object \n",
      " 8   pointsEarned             609 non-null    float64\n",
      " 9   purchaseDate             671 non-null    object \n",
      " 10  purchasedItemCount       635 non-null    float64\n",
      " 11  rewardsReceiptItemList   679 non-null    object \n",
      " 12  rewardsReceiptStatus     1119 non-null   object \n",
      " 13  totalSpent               684 non-null    float64\n",
      " 14  userId                   1119 non-null   object \n",
      "dtypes: float64(4), object(11)\n",
      "memory usage: 131.3+ KB\n"
     ]
    }
   ],
   "source": [
    "receipts_df.info()"
   ]
  },
  {
   "cell_type": "code",
   "execution_count": 9,
   "id": "bf16ed7a-fe75-484d-8805-628c266a0e5f",
   "metadata": {},
   "outputs": [
    {
     "data": {
      "text/plain": [
       "FINISHED     518\n",
       "SUBMITTED    434\n",
       "REJECTED      71\n",
       "PENDING       50\n",
       "FLAGGED       46\n",
       "Name: rewardsReceiptStatus, dtype: int64"
      ]
     },
     "execution_count": 9,
     "metadata": {},
     "output_type": "execute_result"
    }
   ],
   "source": [
    "receipts_df.rewardsReceiptStatus.value_counts()"
   ]
  },
  {
   "cell_type": "markdown",
   "id": "dea42f08-5a0e-4526-a244-7223c9f1794d",
   "metadata": {},
   "source": [
    "So we are seeing that while some columns have values for every entry, there are a lot of `null` values in our dataframe. It is beneficial that every entry has a receipt status and can be attached to a user by an id, and there is a status for every event. A lot of the `null` values seem like they will come from entries that haven't been filled yet because their status is still 'SUBMITTED'. However, the missing values certainly beg some questions, such as, why are their different numbers of values in `pointsEarned` and `bonusPointsEarned` and why do both columns exist as they appear to be equivalent, and why is the number of available entries not equal in either case to the number of entries in the `pointsAwardedDate` column, or for that matter the number of real entries in `finishedDate` or the amount of receipts categorized as `'FINISHED'` in `rewardsReceiptsStatus`? Broadly, if the solution is working as intended but there are frequently missing values and inconsistencies, what is really necessary to store going forward? With regards to data types, many are object (strings), which doesn't need to be true for things that could be converted to dates, if extracted from a nested structure.\n",
    "\n",
    "I will also make a note here that one of the business questions asks for aggregations related to `rewardsReceiptStatus` of either 'Rejected' or 'Accepted' but 'Accepted' does not appear in this column as a value. Based on 'Finished' being present and similar in number to the number of real values for columns related to points being awarded, I will guess that 'Accepted' and 'Finished' are synonymous. Further investigation could help verify this guess, such as comparing rows where the value is 'Finished' to see if they coincide with rows where points are awarded."
   ]
  },
  {
   "cell_type": "markdown",
   "id": "209be504-4f34-4338-aca7-68b03d78a2c1",
   "metadata": {},
   "source": [
    "For users, we are given column information:\n",
    "```\n",
    "    _id: user Id\n",
    "    state: state abbreviation\n",
    "    createdDate: when the user created their account\n",
    "    lastLogin: last time the user was recorded logging in to the app\n",
    "    role: constant value set to 'CONSUMER'\n",
    "    active: indicates if the user is active; only Fetch will de-activate an account with this flag\n",
    "```"
   ]
  },
  {
   "cell_type": "code",
   "execution_count": 10,
   "id": "fed2dd74-161b-4dad-85fc-23676d89aed9",
   "metadata": {},
   "outputs": [
    {
     "data": {
      "text/html": [
       "<div>\n",
       "<style scoped>\n",
       "    .dataframe tbody tr th:only-of-type {\n",
       "        vertical-align: middle;\n",
       "    }\n",
       "\n",
       "    .dataframe tbody tr th {\n",
       "        vertical-align: top;\n",
       "    }\n",
       "\n",
       "    .dataframe thead th {\n",
       "        text-align: right;\n",
       "    }\n",
       "</style>\n",
       "<table border=\"1\" class=\"dataframe\">\n",
       "  <thead>\n",
       "    <tr style=\"text-align: right;\">\n",
       "      <th></th>\n",
       "      <th>_id</th>\n",
       "      <th>active</th>\n",
       "      <th>createdDate</th>\n",
       "      <th>lastLogin</th>\n",
       "      <th>role</th>\n",
       "      <th>signUpSource</th>\n",
       "      <th>state</th>\n",
       "    </tr>\n",
       "  </thead>\n",
       "  <tbody>\n",
       "    <tr>\n",
       "      <th>0</th>\n",
       "      <td>{'$oid': '5ff1e194b6a9d73a3a9f1052'}</td>\n",
       "      <td>True</td>\n",
       "      <td>{'$date': 1609687444800}</td>\n",
       "      <td>{'$date': 1609687537858}</td>\n",
       "      <td>consumer</td>\n",
       "      <td>Email</td>\n",
       "      <td>WI</td>\n",
       "    </tr>\n",
       "    <tr>\n",
       "      <th>1</th>\n",
       "      <td>{'$oid': '5ff1e194b6a9d73a3a9f1052'}</td>\n",
       "      <td>True</td>\n",
       "      <td>{'$date': 1609687444800}</td>\n",
       "      <td>{'$date': 1609687537858}</td>\n",
       "      <td>consumer</td>\n",
       "      <td>Email</td>\n",
       "      <td>WI</td>\n",
       "    </tr>\n",
       "    <tr>\n",
       "      <th>2</th>\n",
       "      <td>{'$oid': '5ff1e194b6a9d73a3a9f1052'}</td>\n",
       "      <td>True</td>\n",
       "      <td>{'$date': 1609687444800}</td>\n",
       "      <td>{'$date': 1609687537858}</td>\n",
       "      <td>consumer</td>\n",
       "      <td>Email</td>\n",
       "      <td>WI</td>\n",
       "    </tr>\n",
       "    <tr>\n",
       "      <th>3</th>\n",
       "      <td>{'$oid': '5ff1e1eacfcf6c399c274ae6'}</td>\n",
       "      <td>True</td>\n",
       "      <td>{'$date': 1609687530554}</td>\n",
       "      <td>{'$date': 1609687530597}</td>\n",
       "      <td>consumer</td>\n",
       "      <td>Email</td>\n",
       "      <td>WI</td>\n",
       "    </tr>\n",
       "    <tr>\n",
       "      <th>4</th>\n",
       "      <td>{'$oid': '5ff1e194b6a9d73a3a9f1052'}</td>\n",
       "      <td>True</td>\n",
       "      <td>{'$date': 1609687444800}</td>\n",
       "      <td>{'$date': 1609687537858}</td>\n",
       "      <td>consumer</td>\n",
       "      <td>Email</td>\n",
       "      <td>WI</td>\n",
       "    </tr>\n",
       "  </tbody>\n",
       "</table>\n",
       "</div>"
      ],
      "text/plain": [
       "                                    _id  active               createdDate  \\\n",
       "0  {'$oid': '5ff1e194b6a9d73a3a9f1052'}    True  {'$date': 1609687444800}   \n",
       "1  {'$oid': '5ff1e194b6a9d73a3a9f1052'}    True  {'$date': 1609687444800}   \n",
       "2  {'$oid': '5ff1e194b6a9d73a3a9f1052'}    True  {'$date': 1609687444800}   \n",
       "3  {'$oid': '5ff1e1eacfcf6c399c274ae6'}    True  {'$date': 1609687530554}   \n",
       "4  {'$oid': '5ff1e194b6a9d73a3a9f1052'}    True  {'$date': 1609687444800}   \n",
       "\n",
       "                  lastLogin      role signUpSource state  \n",
       "0  {'$date': 1609687537858}  consumer        Email    WI  \n",
       "1  {'$date': 1609687537858}  consumer        Email    WI  \n",
       "2  {'$date': 1609687537858}  consumer        Email    WI  \n",
       "3  {'$date': 1609687530597}  consumer        Email    WI  \n",
       "4  {'$date': 1609687537858}  consumer        Email    WI  "
      ]
     },
     "execution_count": 10,
     "metadata": {},
     "output_type": "execute_result"
    }
   ],
   "source": [
    "users_df.head()"
   ]
  },
  {
   "cell_type": "markdown",
   "id": "6bcb04af-7562-4ec8-a8de-0abe40a6c384",
   "metadata": {},
   "source": [
    "Similarly nested structures as to receipts table. One issue present here, due to the nested structures, is that the users table `_id` column is nested in a dictionary, while its existence as a foreign key in the receipts table is not nested, so trying to look them up by looking for where they are equal doesn't work. You can workaround it by accessing the value in the dictionary, but that requires extra steps and will be confusing to people who are new to the database and how the values are stored. Also, do we need to have the `role` column if it is always consumer? Maybe `role` is referenced elsewhere."
   ]
  },
  {
   "cell_type": "code",
   "execution_count": 11,
   "id": "b3a752b4-68b1-4605-be30-3e77d14f1d1f",
   "metadata": {},
   "outputs": [
    {
     "data": {
      "text/plain": [
       "Email     443\n",
       "Google      4\n",
       "Name: signUpSource, dtype: int64"
      ]
     },
     "execution_count": 11,
     "metadata": {},
     "output_type": "execute_result"
    }
   ],
   "source": [
    "users_df['signUpSource'].value_counts()"
   ]
  },
  {
   "cell_type": "markdown",
   "id": "66c8ee71-f6d5-4668-b057-28e569ff9cee",
   "metadata": {},
   "source": [
    "Like SSO 'click to sign in with Google?' vs setting up a sign on with your own email?"
   ]
  },
  {
   "cell_type": "code",
   "execution_count": 12,
   "id": "b7738d43-99c1-48f5-8483-b31d44faf66e",
   "metadata": {},
   "outputs": [
    {
     "data": {
      "text/plain": [
       "True     494\n",
       "False      1\n",
       "Name: active, dtype: int64"
      ]
     },
     "execution_count": 12,
     "metadata": {},
     "output_type": "execute_result"
    }
   ],
   "source": [
    "users_df['active'].value_counts()"
   ]
  },
  {
   "cell_type": "markdown",
   "id": "072c6916-0752-4fcd-a4a4-a3a1d3f54aa0",
   "metadata": {},
   "source": [
    "What happens when active is false?"
   ]
  },
  {
   "cell_type": "code",
   "execution_count": 13,
   "id": "aa7c015a-3445-43ac-a491-2217d22c123b",
   "metadata": {},
   "outputs": [
    {
     "data": {
      "text/plain": [
       "array(['WI', 'KY', 'AL', 'CO', 'IL', nan, 'OH', 'SC', 'NH'], dtype=object)"
      ]
     },
     "execution_count": 13,
     "metadata": {},
     "output_type": "execute_result"
    }
   ],
   "source": [
    "users_df['state'].unique()"
   ]
  },
  {
   "cell_type": "code",
   "execution_count": 14,
   "id": "920e180f-d84b-4205-8e37-55ce07bde747",
   "metadata": {},
   "outputs": [
    {
     "name": "stdout",
     "output_type": "stream",
     "text": [
      "<class 'pandas.core.frame.DataFrame'>\n",
      "RangeIndex: 495 entries, 0 to 494\n",
      "Data columns (total 7 columns):\n",
      " #   Column        Non-Null Count  Dtype \n",
      "---  ------        --------------  ----- \n",
      " 0   _id           495 non-null    object\n",
      " 1   active        495 non-null    bool  \n",
      " 2   createdDate   495 non-null    object\n",
      " 3   lastLogin     433 non-null    object\n",
      " 4   role          495 non-null    object\n",
      " 5   signUpSource  447 non-null    object\n",
      " 6   state         439 non-null    object\n",
      "dtypes: bool(1), object(6)\n",
      "memory usage: 23.8+ KB\n"
     ]
    }
   ],
   "source": [
    "users_df.info()"
   ]
  },
  {
   "cell_type": "code",
   "execution_count": 15,
   "id": "2468bf33-389f-4a9d-837f-b2eda3e4847a",
   "metadata": {},
   "outputs": [
    {
     "data": {
      "text/plain": [
       "False    433\n",
       "True      62\n",
       "Name: lastLogin, dtype: int64"
      ]
     },
     "execution_count": 15,
     "metadata": {},
     "output_type": "execute_result"
    }
   ],
   "source": [
    "users_df.lastLogin.isnull().value_counts()"
   ]
  },
  {
   "cell_type": "markdown",
   "id": "cb0c6208-b38f-4bf9-a13a-809960779656",
   "metadata": {},
   "source": [
    "In this table we seem to have most of our information. Perhaps `lastLogin` is sometimes `null` since they have only ever used the service the first time they created it. State may not be mandatory, or people signed up from outside the US? Anyway, while a lot of this information is nice to have, probably okay we are missing some values, though we can look into the reason why they may not have been recorded."
   ]
  },
  {
   "cell_type": "markdown",
   "id": "4a75c840-844f-4653-aa7a-f30e597741db",
   "metadata": {},
   "source": [
    "For brands, we were given the information:\n",
    "```\n",
    "    _id: brand uuid\n",
    "    barcode: the barcode on the item\n",
    "    brandCode: String that corresponds with the brand column in a partner product file\n",
    "    category: The category name for which the brand sells products in\n",
    "    categoryCode: The category code that references a BrandCategory\n",
    "    cpg: reference to CPG collection\n",
    "    topBrand: Boolean indicator for whether the brand should be featured as a 'top brand'\n",
    "    name: Brand name\n",
    "```"
   ]
  },
  {
   "cell_type": "code",
   "execution_count": 16,
   "id": "b7fb5d7d-45ac-4497-87f2-b9998630cea8",
   "metadata": {},
   "outputs": [
    {
     "data": {
      "text/html": [
       "<div>\n",
       "<style scoped>\n",
       "    .dataframe tbody tr th:only-of-type {\n",
       "        vertical-align: middle;\n",
       "    }\n",
       "\n",
       "    .dataframe tbody tr th {\n",
       "        vertical-align: top;\n",
       "    }\n",
       "\n",
       "    .dataframe thead th {\n",
       "        text-align: right;\n",
       "    }\n",
       "</style>\n",
       "<table border=\"1\" class=\"dataframe\">\n",
       "  <thead>\n",
       "    <tr style=\"text-align: right;\">\n",
       "      <th></th>\n",
       "      <th>_id</th>\n",
       "      <th>barcode</th>\n",
       "      <th>category</th>\n",
       "      <th>categoryCode</th>\n",
       "      <th>cpg</th>\n",
       "      <th>name</th>\n",
       "      <th>topBrand</th>\n",
       "      <th>brandCode</th>\n",
       "    </tr>\n",
       "  </thead>\n",
       "  <tbody>\n",
       "    <tr>\n",
       "      <th>0</th>\n",
       "      <td>{'$oid': '601ac115be37ce2ead437551'}</td>\n",
       "      <td>511111019862</td>\n",
       "      <td>Baking</td>\n",
       "      <td>BAKING</td>\n",
       "      <td>{'$id': {'$oid': '601ac114be37ce2ead437550'}, ...</td>\n",
       "      <td>test brand @1612366101024</td>\n",
       "      <td>0.0</td>\n",
       "      <td>NaN</td>\n",
       "    </tr>\n",
       "    <tr>\n",
       "      <th>1</th>\n",
       "      <td>{'$oid': '601c5460be37ce2ead43755f'}</td>\n",
       "      <td>511111519928</td>\n",
       "      <td>Beverages</td>\n",
       "      <td>BEVERAGES</td>\n",
       "      <td>{'$id': {'$oid': '5332f5fbe4b03c9a25efd0ba'}, ...</td>\n",
       "      <td>Starbucks</td>\n",
       "      <td>0.0</td>\n",
       "      <td>STARBUCKS</td>\n",
       "    </tr>\n",
       "    <tr>\n",
       "      <th>2</th>\n",
       "      <td>{'$oid': '601ac142be37ce2ead43755d'}</td>\n",
       "      <td>511111819905</td>\n",
       "      <td>Baking</td>\n",
       "      <td>BAKING</td>\n",
       "      <td>{'$id': {'$oid': '601ac142be37ce2ead437559'}, ...</td>\n",
       "      <td>test brand @1612366146176</td>\n",
       "      <td>0.0</td>\n",
       "      <td>TEST BRANDCODE @1612366146176</td>\n",
       "    </tr>\n",
       "    <tr>\n",
       "      <th>3</th>\n",
       "      <td>{'$oid': '601ac142be37ce2ead43755a'}</td>\n",
       "      <td>511111519874</td>\n",
       "      <td>Baking</td>\n",
       "      <td>BAKING</td>\n",
       "      <td>{'$id': {'$oid': '601ac142be37ce2ead437559'}, ...</td>\n",
       "      <td>test brand @1612366146051</td>\n",
       "      <td>0.0</td>\n",
       "      <td>TEST BRANDCODE @1612366146051</td>\n",
       "    </tr>\n",
       "    <tr>\n",
       "      <th>4</th>\n",
       "      <td>{'$oid': '601ac142be37ce2ead43755e'}</td>\n",
       "      <td>511111319917</td>\n",
       "      <td>Candy &amp; Sweets</td>\n",
       "      <td>CANDY_AND_SWEETS</td>\n",
       "      <td>{'$id': {'$oid': '5332fa12e4b03c9a25efd1e7'}, ...</td>\n",
       "      <td>test brand @1612366146827</td>\n",
       "      <td>0.0</td>\n",
       "      <td>TEST BRANDCODE @1612366146827</td>\n",
       "    </tr>\n",
       "  </tbody>\n",
       "</table>\n",
       "</div>"
      ],
      "text/plain": [
       "                                    _id       barcode        category  \\\n",
       "0  {'$oid': '601ac115be37ce2ead437551'}  511111019862          Baking   \n",
       "1  {'$oid': '601c5460be37ce2ead43755f'}  511111519928       Beverages   \n",
       "2  {'$oid': '601ac142be37ce2ead43755d'}  511111819905          Baking   \n",
       "3  {'$oid': '601ac142be37ce2ead43755a'}  511111519874          Baking   \n",
       "4  {'$oid': '601ac142be37ce2ead43755e'}  511111319917  Candy & Sweets   \n",
       "\n",
       "       categoryCode                                                cpg  \\\n",
       "0            BAKING  {'$id': {'$oid': '601ac114be37ce2ead437550'}, ...   \n",
       "1         BEVERAGES  {'$id': {'$oid': '5332f5fbe4b03c9a25efd0ba'}, ...   \n",
       "2            BAKING  {'$id': {'$oid': '601ac142be37ce2ead437559'}, ...   \n",
       "3            BAKING  {'$id': {'$oid': '601ac142be37ce2ead437559'}, ...   \n",
       "4  CANDY_AND_SWEETS  {'$id': {'$oid': '5332fa12e4b03c9a25efd1e7'}, ...   \n",
       "\n",
       "                        name  topBrand                      brandCode  \n",
       "0  test brand @1612366101024       0.0                            NaN  \n",
       "1                  Starbucks       0.0                      STARBUCKS  \n",
       "2  test brand @1612366146176       0.0  TEST BRANDCODE @1612366146176  \n",
       "3  test brand @1612366146051       0.0  TEST BRANDCODE @1612366146051  \n",
       "4  test brand @1612366146827       0.0  TEST BRANDCODE @1612366146827  "
      ]
     },
     "execution_count": 16,
     "metadata": {},
     "output_type": "execute_result"
    }
   ],
   "source": [
    "brands_df.head()"
   ]
  },
  {
   "cell_type": "markdown",
   "id": "7eb112ad-0109-4a1e-ba07-91ae40ccdf88",
   "metadata": {},
   "source": [
    "Nested structures again. Also, it is not immediately apparent the differences between `category` and `categoryCode`, and `name` and `brandCode`; perhaps we can condense them or retain the more useful of the two. Maybe the barcode here can be linked to the barcodes in `rewardsReceiptItemList`, otherwise I'm not really sure how to connect this table back to the others. Let's also investigate `cpg`."
   ]
  },
  {
   "cell_type": "code",
   "execution_count": 17,
   "id": "18e4aac8-1d10-4b8e-a17d-603044eb19ef",
   "metadata": {},
   "outputs": [
    {
     "data": {
      "text/plain": [
       "{'$id': {'$oid': '601ac114be37ce2ead437550'}, '$ref': 'Cogs'}"
      ]
     },
     "execution_count": 17,
     "metadata": {},
     "output_type": "execute_result"
    }
   ],
   "source": [
    "brands_df['cpg'][0]"
   ]
  },
  {
   "cell_type": "markdown",
   "id": "483a5e21-3c74-49b3-8845-2cbfc73a97b1",
   "metadata": {},
   "source": [
    "Without further info, I can't be sure what this means. It says reference to CPG collection in our column information, but we are not currently privy to that data as of now."
   ]
  },
  {
   "cell_type": "code",
   "execution_count": 18,
   "id": "390f80e0-c0d1-4a0e-b22b-7e9490bec9dc",
   "metadata": {},
   "outputs": [
    {
     "name": "stdout",
     "output_type": "stream",
     "text": [
      "<class 'pandas.core.frame.DataFrame'>\n",
      "RangeIndex: 1167 entries, 0 to 1166\n",
      "Data columns (total 8 columns):\n",
      " #   Column        Non-Null Count  Dtype  \n",
      "---  ------        --------------  -----  \n",
      " 0   _id           1167 non-null   object \n",
      " 1   barcode       1167 non-null   int64  \n",
      " 2   category      1012 non-null   object \n",
      " 3   categoryCode  517 non-null    object \n",
      " 4   cpg           1167 non-null   object \n",
      " 5   name          1167 non-null   object \n",
      " 6   topBrand      555 non-null    float64\n",
      " 7   brandCode     933 non-null    object \n",
      "dtypes: float64(1), int64(1), object(6)\n",
      "memory usage: 73.1+ KB\n"
     ]
    }
   ],
   "source": [
    "brands_df.info()"
   ]
  },
  {
   "cell_type": "markdown",
   "id": "f677a77b-55ee-4537-b194-52101c7a8c13",
   "metadata": {},
   "source": [
    "So there are more `category` and `name` entries than their respective Code columns in both cases. Maybe this is a result of codes not being developed internally for all categories? It also appears that the `topBrand` bool is often missing. Between these notes, I would guess that there either are some items bought that have not been found in an internal reference and should be added and categorized, if having this information is useful. They may also have been bought from e-commerce sites that do not provide this information."
   ]
  },
  {
   "cell_type": "code",
   "execution_count": 19,
   "id": "b14f1a70-31a9-457d-b208-4ccc27eafaa2",
   "metadata": {},
   "outputs": [
    {
     "data": {
      "text/html": [
       "<div>\n",
       "<style scoped>\n",
       "    .dataframe tbody tr th:only-of-type {\n",
       "        vertical-align: middle;\n",
       "    }\n",
       "\n",
       "    .dataframe tbody tr th {\n",
       "        vertical-align: top;\n",
       "    }\n",
       "\n",
       "    .dataframe thead th {\n",
       "        text-align: right;\n",
       "    }\n",
       "</style>\n",
       "<table border=\"1\" class=\"dataframe\">\n",
       "  <thead>\n",
       "    <tr style=\"text-align: right;\">\n",
       "      <th></th>\n",
       "      <th>_id</th>\n",
       "      <th>barcode</th>\n",
       "      <th>category</th>\n",
       "      <th>categoryCode</th>\n",
       "      <th>cpg</th>\n",
       "      <th>name</th>\n",
       "      <th>topBrand</th>\n",
       "      <th>brandCode</th>\n",
       "    </tr>\n",
       "  </thead>\n",
       "  <tbody>\n",
       "    <tr>\n",
       "      <th>848</th>\n",
       "      <td>{'$oid': '585a961fe4b03e62d1ce0e76'}</td>\n",
       "      <td>511111701781</td>\n",
       "      <td>Snacks</td>\n",
       "      <td>NaN</td>\n",
       "      <td>{'$ref': 'Cogs', '$id': {'$oid': '5332f5fbe4b0...</td>\n",
       "      <td>Baken-Ets</td>\n",
       "      <td>1.0</td>\n",
       "      <td>BAKEN-ETS</td>\n",
       "    </tr>\n",
       "    <tr>\n",
       "      <th>574</th>\n",
       "      <td>{'$oid': '5d9d08d1a60b87376833e348'}</td>\n",
       "      <td>511111605546</td>\n",
       "      <td>Snacks</td>\n",
       "      <td>NaN</td>\n",
       "      <td>{'$ref': 'Cogs', '$id': {'$oid': '5332f5fbe4b0...</td>\n",
       "      <td>Baken-Ets</td>\n",
       "      <td>NaN</td>\n",
       "      <td>BAKEN ETS</td>\n",
       "    </tr>\n",
       "    <tr>\n",
       "      <th>140</th>\n",
       "      <td>{'$oid': '5a4d23dae4b0bcb2c74ea77e'}</td>\n",
       "      <td>511111000518</td>\n",
       "      <td>Beverages</td>\n",
       "      <td>NaN</td>\n",
       "      <td>{'$ref': 'Cogs', '$id': {'$oid': '5332f5fbe4b0...</td>\n",
       "      <td>Caleb's Kola</td>\n",
       "      <td>0.0</td>\n",
       "      <td>CALEB'S KOLA</td>\n",
       "    </tr>\n",
       "    <tr>\n",
       "      <th>740</th>\n",
       "      <td>{'$oid': '5d601d74a3a018514994f422'}</td>\n",
       "      <td>511111004912</td>\n",
       "      <td>Snacks</td>\n",
       "      <td>NaN</td>\n",
       "      <td>{'$ref': 'Cogs', '$id': {'$oid': '53e10d6368ab...</td>\n",
       "      <td>Caleb's Kola</td>\n",
       "      <td>NaN</td>\n",
       "      <td>CALEBS KOLA</td>\n",
       "    </tr>\n",
       "    <tr>\n",
       "      <th>1007</th>\n",
       "      <td>{'$oid': '5d658ffa6d5f3b23d1bc7914'}</td>\n",
       "      <td>511111205227</td>\n",
       "      <td>NaN</td>\n",
       "      <td>NaN</td>\n",
       "      <td>{'$ref': 'Cogs', '$id': {'$oid': '53e10d6368ab...</td>\n",
       "      <td>Diabetic Living Magazine</td>\n",
       "      <td>NaN</td>\n",
       "      <td>NaN</td>\n",
       "    </tr>\n",
       "    <tr>\n",
       "      <th>1006</th>\n",
       "      <td>{'$oid': '5d66d597a3a018093ab34726'}</td>\n",
       "      <td>511111805298</td>\n",
       "      <td>Magazines</td>\n",
       "      <td>NaN</td>\n",
       "      <td>{'$ref': 'Cogs', '$id': {'$oid': '5d5d4fd16d5f...</td>\n",
       "      <td>Diabetic Living Magazine</td>\n",
       "      <td>NaN</td>\n",
       "      <td>511111805298</td>\n",
       "    </tr>\n",
       "    <tr>\n",
       "      <th>1163</th>\n",
       "      <td>{'$oid': '5dc1fca91dda2c0ad7da64ae'}</td>\n",
       "      <td>511111706328</td>\n",
       "      <td>Breakfast &amp; Cereal</td>\n",
       "      <td>NaN</td>\n",
       "      <td>{'$ref': 'Cogs', '$id': {'$oid': '53e10d6368ab...</td>\n",
       "      <td>Dippin Dots® Cereal</td>\n",
       "      <td>NaN</td>\n",
       "      <td>DIPPIN DOTS CEREAL</td>\n",
       "    </tr>\n",
       "    <tr>\n",
       "      <th>1081</th>\n",
       "      <td>{'$oid': '5dc2d9d4a60b873d6b0666d2'}</td>\n",
       "      <td>511111206330</td>\n",
       "      <td>Breakfast &amp; Cereal</td>\n",
       "      <td>NaN</td>\n",
       "      <td>{'$ref': 'Cogs', '$id': {'$oid': '5332f5f3e4b0...</td>\n",
       "      <td>Dippin Dots® Cereal</td>\n",
       "      <td>NaN</td>\n",
       "      <td>DIPPIN DOTS</td>\n",
       "    </tr>\n",
       "    <tr>\n",
       "      <th>194</th>\n",
       "      <td>{'$oid': '5d6415d5a3a018514994f429'}</td>\n",
       "      <td>511111605058</td>\n",
       "      <td>Magazines</td>\n",
       "      <td>NaN</td>\n",
       "      <td>{'$ref': 'Cogs', '$id': {'$oid': '5d5d4fd16d5f...</td>\n",
       "      <td>Health Magazine</td>\n",
       "      <td>NaN</td>\n",
       "      <td>511111605058</td>\n",
       "    </tr>\n",
       "    <tr>\n",
       "      <th>596</th>\n",
       "      <td>{'$oid': '5f298852be37ce7958c5952d'}</td>\n",
       "      <td>511111915287</td>\n",
       "      <td>Magazines</td>\n",
       "      <td>MAGAZINES</td>\n",
       "      <td>{'$ref': 'Cogs', '$id': {'$oid': '5d66b9dcee7f...</td>\n",
       "      <td>Health Magazine</td>\n",
       "      <td>NaN</td>\n",
       "      <td>HEALTH</td>\n",
       "    </tr>\n",
       "    <tr>\n",
       "      <th>1074</th>\n",
       "      <td>{'$oid': '5c7d9cb395144c337a3cbfbb'}</td>\n",
       "      <td>511111707202</td>\n",
       "      <td>Baby</td>\n",
       "      <td>BABY</td>\n",
       "      <td>{'$ref': 'Cogs', '$id': {'$oid': '5459429be4b0...</td>\n",
       "      <td>Huggies</td>\n",
       "      <td>1.0</td>\n",
       "      <td>HUGGIES</td>\n",
       "    </tr>\n",
       "    <tr>\n",
       "      <th>628</th>\n",
       "      <td>{'$oid': '5bd2011f90fa074576779a17'}</td>\n",
       "      <td>511111704652</td>\n",
       "      <td>Baby</td>\n",
       "      <td>NaN</td>\n",
       "      <td>{'$ref': 'Cogs', '$id': {'$oid': '550b2565e4b0...</td>\n",
       "      <td>Huggies</td>\n",
       "      <td>0.0</td>\n",
       "      <td>HUGGIES</td>\n",
       "    </tr>\n",
       "    <tr>\n",
       "      <th>846</th>\n",
       "      <td>{'$oid': '5e710dd5ee7f2d0b35b2a193'}</td>\n",
       "      <td>511111314097</td>\n",
       "      <td>Dairy &amp; Refrigerated</td>\n",
       "      <td>DAIRY_AND_REFRIGERATED</td>\n",
       "      <td>{'$ref': 'Cogs', '$id': {'$oid': '5e5ea9cc9c50...</td>\n",
       "      <td>I CAN'T BELIEVE IT'S NOT BUTTER!</td>\n",
       "      <td>NaN</td>\n",
       "      <td>I CAN'T BELIEVE IT'S NOT BUTTER</td>\n",
       "    </tr>\n",
       "    <tr>\n",
       "      <th>176</th>\n",
       "      <td>{'$oid': '592486bee410d61fcea3d12d'}</td>\n",
       "      <td>511111700814</td>\n",
       "      <td>Dairy</td>\n",
       "      <td>NaN</td>\n",
       "      <td>{'$ref': 'Cogs', '$id': {'$oid': '53e10d6368ab...</td>\n",
       "      <td>I CAN'T BELIEVE IT'S NOT BUTTER!</td>\n",
       "      <td>NaN</td>\n",
       "      <td>I CAN'T BELIEVE IT'S NOT BUTTER!</td>\n",
       "    </tr>\n",
       "    <tr>\n",
       "      <th>339</th>\n",
       "      <td>{'$oid': '5e5ff265ee7f2d0b35b2a18f'}</td>\n",
       "      <td>511111914051</td>\n",
       "      <td>Health &amp; Wellness</td>\n",
       "      <td>NaN</td>\n",
       "      <td>{'$ref': 'Cogs', '$id': {'$oid': '53e10d6368ab...</td>\n",
       "      <td>ONE A DAY® WOMENS</td>\n",
       "      <td>NaN</td>\n",
       "      <td>ONE A DAY® WOMENS</td>\n",
       "    </tr>\n",
       "    <tr>\n",
       "      <th>64</th>\n",
       "      <td>{'$oid': '5da609991dda2c3e1416ae90'}</td>\n",
       "      <td>511111805854</td>\n",
       "      <td>Health &amp; Wellness</td>\n",
       "      <td>NaN</td>\n",
       "      <td>{'$ref': 'Cogs', '$id': {'$oid': '53e10d6368ab...</td>\n",
       "      <td>ONE A DAY® WOMENS</td>\n",
       "      <td>0.0</td>\n",
       "      <td>511111805854</td>\n",
       "    </tr>\n",
       "    <tr>\n",
       "      <th>978</th>\n",
       "      <td>{'$oid': '5db3288aee7f2d6de4248977'}</td>\n",
       "      <td>511111312949</td>\n",
       "      <td>Baby</td>\n",
       "      <td>NaN</td>\n",
       "      <td>{'$ref': 'Cogs', '$id': {'$oid': '550b2565e4b0...</td>\n",
       "      <td>Pull-Ups</td>\n",
       "      <td>1.0</td>\n",
       "      <td>PULLUPS</td>\n",
       "    </tr>\n",
       "    <tr>\n",
       "      <th>126</th>\n",
       "      <td>{'$oid': '5bd201a990fa074576779a19'}</td>\n",
       "      <td>511111104698</td>\n",
       "      <td>Baby</td>\n",
       "      <td>NaN</td>\n",
       "      <td>{'$ref': 'Cogs', '$id': {'$oid': '550b2565e4b0...</td>\n",
       "      <td>Pull-Ups</td>\n",
       "      <td>0.0</td>\n",
       "      <td>PULL UPS</td>\n",
       "    </tr>\n",
       "    <tr>\n",
       "      <th>282</th>\n",
       "      <td>{'$oid': '5332f608e4b03c9a25efd0c1'}</td>\n",
       "      <td>511111903901</td>\n",
       "      <td>NaN</td>\n",
       "      <td>NaN</td>\n",
       "      <td>{'$ref': 'Cpgs', '$id': {'$oid': '53e10d6368ab...</td>\n",
       "      <td>Sierra Mist</td>\n",
       "      <td>NaN</td>\n",
       "      <td>NaN</td>\n",
       "    </tr>\n",
       "    <tr>\n",
       "      <th>1116</th>\n",
       "      <td>{'$oid': '5d66e07da3a018093ab3472d'}</td>\n",
       "      <td>511111205500</td>\n",
       "      <td>Beverages</td>\n",
       "      <td>NaN</td>\n",
       "      <td>{'$ref': 'Cogs', '$id': {'$oid': '5332f5fbe4b0...</td>\n",
       "      <td>Sierra Mist</td>\n",
       "      <td>NaN</td>\n",
       "      <td>SIERRA MIST</td>\n",
       "    </tr>\n",
       "    <tr>\n",
       "      <th>477</th>\n",
       "      <td>{'$oid': '5bcdfc5a965c7d66d92731e9'}</td>\n",
       "      <td>511111304616</td>\n",
       "      <td>Beverages</td>\n",
       "      <td>NaN</td>\n",
       "      <td>{'$ref': 'Cogs', '$id': {'$oid': '53e10d6368ab...</td>\n",
       "      <td>V8 Hydrate</td>\n",
       "      <td>NaN</td>\n",
       "      <td>NaN</td>\n",
       "    </tr>\n",
       "    <tr>\n",
       "      <th>1025</th>\n",
       "      <td>{'$oid': '5bcdfc5990fa074576779a15'}</td>\n",
       "      <td>511111804604</td>\n",
       "      <td>Beverages</td>\n",
       "      <td>NaN</td>\n",
       "      <td>{'$ref': 'Cogs', '$id': {'$oid': '5a734034e4b0...</td>\n",
       "      <td>V8 Hydrate</td>\n",
       "      <td>0.0</td>\n",
       "      <td>V8 HYDRATE</td>\n",
       "    </tr>\n",
       "  </tbody>\n",
       "</table>\n",
       "</div>"
      ],
      "text/plain": [
       "                                       _id       barcode  \\\n",
       "848   {'$oid': '585a961fe4b03e62d1ce0e76'}  511111701781   \n",
       "574   {'$oid': '5d9d08d1a60b87376833e348'}  511111605546   \n",
       "140   {'$oid': '5a4d23dae4b0bcb2c74ea77e'}  511111000518   \n",
       "740   {'$oid': '5d601d74a3a018514994f422'}  511111004912   \n",
       "1007  {'$oid': '5d658ffa6d5f3b23d1bc7914'}  511111205227   \n",
       "1006  {'$oid': '5d66d597a3a018093ab34726'}  511111805298   \n",
       "1163  {'$oid': '5dc1fca91dda2c0ad7da64ae'}  511111706328   \n",
       "1081  {'$oid': '5dc2d9d4a60b873d6b0666d2'}  511111206330   \n",
       "194   {'$oid': '5d6415d5a3a018514994f429'}  511111605058   \n",
       "596   {'$oid': '5f298852be37ce7958c5952d'}  511111915287   \n",
       "1074  {'$oid': '5c7d9cb395144c337a3cbfbb'}  511111707202   \n",
       "628   {'$oid': '5bd2011f90fa074576779a17'}  511111704652   \n",
       "846   {'$oid': '5e710dd5ee7f2d0b35b2a193'}  511111314097   \n",
       "176   {'$oid': '592486bee410d61fcea3d12d'}  511111700814   \n",
       "339   {'$oid': '5e5ff265ee7f2d0b35b2a18f'}  511111914051   \n",
       "64    {'$oid': '5da609991dda2c3e1416ae90'}  511111805854   \n",
       "978   {'$oid': '5db3288aee7f2d6de4248977'}  511111312949   \n",
       "126   {'$oid': '5bd201a990fa074576779a19'}  511111104698   \n",
       "282   {'$oid': '5332f608e4b03c9a25efd0c1'}  511111903901   \n",
       "1116  {'$oid': '5d66e07da3a018093ab3472d'}  511111205500   \n",
       "477   {'$oid': '5bcdfc5a965c7d66d92731e9'}  511111304616   \n",
       "1025  {'$oid': '5bcdfc5990fa074576779a15'}  511111804604   \n",
       "\n",
       "                  category            categoryCode  \\\n",
       "848                 Snacks                     NaN   \n",
       "574                 Snacks                     NaN   \n",
       "140              Beverages                     NaN   \n",
       "740                 Snacks                     NaN   \n",
       "1007                   NaN                     NaN   \n",
       "1006             Magazines                     NaN   \n",
       "1163    Breakfast & Cereal                     NaN   \n",
       "1081    Breakfast & Cereal                     NaN   \n",
       "194              Magazines                     NaN   \n",
       "596              Magazines               MAGAZINES   \n",
       "1074                  Baby                    BABY   \n",
       "628                   Baby                     NaN   \n",
       "846   Dairy & Refrigerated  DAIRY_AND_REFRIGERATED   \n",
       "176                  Dairy                     NaN   \n",
       "339      Health & Wellness                     NaN   \n",
       "64       Health & Wellness                     NaN   \n",
       "978                   Baby                     NaN   \n",
       "126                   Baby                     NaN   \n",
       "282                    NaN                     NaN   \n",
       "1116             Beverages                     NaN   \n",
       "477              Beverages                     NaN   \n",
       "1025             Beverages                     NaN   \n",
       "\n",
       "                                                    cpg  \\\n",
       "848   {'$ref': 'Cogs', '$id': {'$oid': '5332f5fbe4b0...   \n",
       "574   {'$ref': 'Cogs', '$id': {'$oid': '5332f5fbe4b0...   \n",
       "140   {'$ref': 'Cogs', '$id': {'$oid': '5332f5fbe4b0...   \n",
       "740   {'$ref': 'Cogs', '$id': {'$oid': '53e10d6368ab...   \n",
       "1007  {'$ref': 'Cogs', '$id': {'$oid': '53e10d6368ab...   \n",
       "1006  {'$ref': 'Cogs', '$id': {'$oid': '5d5d4fd16d5f...   \n",
       "1163  {'$ref': 'Cogs', '$id': {'$oid': '53e10d6368ab...   \n",
       "1081  {'$ref': 'Cogs', '$id': {'$oid': '5332f5f3e4b0...   \n",
       "194   {'$ref': 'Cogs', '$id': {'$oid': '5d5d4fd16d5f...   \n",
       "596   {'$ref': 'Cogs', '$id': {'$oid': '5d66b9dcee7f...   \n",
       "1074  {'$ref': 'Cogs', '$id': {'$oid': '5459429be4b0...   \n",
       "628   {'$ref': 'Cogs', '$id': {'$oid': '550b2565e4b0...   \n",
       "846   {'$ref': 'Cogs', '$id': {'$oid': '5e5ea9cc9c50...   \n",
       "176   {'$ref': 'Cogs', '$id': {'$oid': '53e10d6368ab...   \n",
       "339   {'$ref': 'Cogs', '$id': {'$oid': '53e10d6368ab...   \n",
       "64    {'$ref': 'Cogs', '$id': {'$oid': '53e10d6368ab...   \n",
       "978   {'$ref': 'Cogs', '$id': {'$oid': '550b2565e4b0...   \n",
       "126   {'$ref': 'Cogs', '$id': {'$oid': '550b2565e4b0...   \n",
       "282   {'$ref': 'Cpgs', '$id': {'$oid': '53e10d6368ab...   \n",
       "1116  {'$ref': 'Cogs', '$id': {'$oid': '5332f5fbe4b0...   \n",
       "477   {'$ref': 'Cogs', '$id': {'$oid': '53e10d6368ab...   \n",
       "1025  {'$ref': 'Cogs', '$id': {'$oid': '5a734034e4b0...   \n",
       "\n",
       "                                  name  topBrand  \\\n",
       "848                          Baken-Ets       1.0   \n",
       "574                          Baken-Ets       NaN   \n",
       "140                       Caleb's Kola       0.0   \n",
       "740                       Caleb's Kola       NaN   \n",
       "1007          Diabetic Living Magazine       NaN   \n",
       "1006          Diabetic Living Magazine       NaN   \n",
       "1163               Dippin Dots® Cereal       NaN   \n",
       "1081               Dippin Dots® Cereal       NaN   \n",
       "194                    Health Magazine       NaN   \n",
       "596                    Health Magazine       NaN   \n",
       "1074                           Huggies       1.0   \n",
       "628                            Huggies       0.0   \n",
       "846   I CAN'T BELIEVE IT'S NOT BUTTER!       NaN   \n",
       "176   I CAN'T BELIEVE IT'S NOT BUTTER!       NaN   \n",
       "339                  ONE A DAY® WOMENS       NaN   \n",
       "64                   ONE A DAY® WOMENS       0.0   \n",
       "978                           Pull-Ups       1.0   \n",
       "126                           Pull-Ups       0.0   \n",
       "282                        Sierra Mist       NaN   \n",
       "1116                       Sierra Mist       NaN   \n",
       "477                         V8 Hydrate       NaN   \n",
       "1025                        V8 Hydrate       0.0   \n",
       "\n",
       "                             brandCode  \n",
       "848                          BAKEN-ETS  \n",
       "574                          BAKEN ETS  \n",
       "140                       CALEB'S KOLA  \n",
       "740                        CALEBS KOLA  \n",
       "1007                               NaN  \n",
       "1006                      511111805298  \n",
       "1163                DIPPIN DOTS CEREAL  \n",
       "1081                       DIPPIN DOTS  \n",
       "194                       511111605058  \n",
       "596                             HEALTH  \n",
       "1074                           HUGGIES  \n",
       "628                            HUGGIES  \n",
       "846    I CAN'T BELIEVE IT'S NOT BUTTER  \n",
       "176   I CAN'T BELIEVE IT'S NOT BUTTER!  \n",
       "339                  ONE A DAY® WOMENS  \n",
       "64                        511111805854  \n",
       "978                            PULLUPS  \n",
       "126                           PULL UPS  \n",
       "282                                NaN  \n",
       "1116                       SIERRA MIST  \n",
       "477                                NaN  \n",
       "1025                        V8 HYDRATE  "
      ]
     },
     "execution_count": 19,
     "metadata": {},
     "output_type": "execute_result"
    }
   ],
   "source": [
    "brands_df.loc[brands_df.name.duplicated(keep = False)].sort_values('name')"
   ]
  },
  {
   "cell_type": "markdown",
   "id": "2322fca1-8c42-4abf-ae75-ae9cadfa07d2",
   "metadata": {},
   "source": [
    "I was looking to verify there was only one of each brand in the brands table to determine the table relationships, and it appears there are some dulicate brands. Some of them have conflicting information, such as in `topBrand` and `brandCode`. Perhaps due to a relationship change with partners? These internal definitions should be updated. Additionally, while I suspected before that `barcode` may be the item barcode and we could use it to link the brand table with the receipts table, seeing it used as a brand code makes this feel less likely, but I'll still check. Let's do that now."
   ]
  },
  {
   "cell_type": "markdown",
   "id": "08aa0669-3293-4ba9-8aba-205501407b0a",
   "metadata": {},
   "source": [
    "### Investigating Brands table Relationship with Receipts Table"
   ]
  },
  {
   "cell_type": "markdown",
   "id": "f60dd430-49db-429b-8c90-9114d7a75f17",
   "metadata": {},
   "source": [
    "From the provided columns, it isn't immediately obvious how brands can be joined with the other two tables. So, we're going to search some of the nested structures to see if we can find a way."
   ]
  },
  {
   "cell_type": "code",
   "execution_count": 20,
   "id": "6b27dd9c-1365-43e0-9191-c844200fabad",
   "metadata": {},
   "outputs": [],
   "source": [
    "item_lists = receipts_df.rewardsReceiptItemList.copy()"
   ]
  },
  {
   "cell_type": "code",
   "execution_count": 21,
   "id": "61c588b7-8e2d-4f99-85a2-6ab02cf3b3c8",
   "metadata": {},
   "outputs": [
    {
     "data": {
      "text/plain": [
       "0       [{'barcode': '4011', 'description': 'ITEM NOT ...\n",
       "1       [{'barcode': '4011', 'description': 'ITEM NOT ...\n",
       "2       [{'needsFetchReview': False, 'partnerItemId': ...\n",
       "3       [{'barcode': '4011', 'description': 'ITEM NOT ...\n",
       "4       [{'barcode': '4011', 'description': 'ITEM NOT ...\n",
       "                              ...                        \n",
       "1106    [{'barcode': 'B076FJ92M4', 'description': 'mue...\n",
       "1112    [{'barcode': 'B076FJ92M4', 'description': 'mue...\n",
       "1113    [{'barcode': 'B076FJ92M4', 'description': 'mue...\n",
       "1114    [{'barcode': 'B076FJ92M4', 'description': 'mue...\n",
       "1117    [{'barcode': 'B076FJ92M4', 'description': 'mue...\n",
       "Name: rewardsReceiptItemList, Length: 679, dtype: object"
      ]
     },
     "execution_count": 21,
     "metadata": {},
     "output_type": "execute_result"
    }
   ],
   "source": [
    "item_lists.dropna(inplace = True)\n",
    "item_lists"
   ]
  },
  {
   "cell_type": "code",
   "execution_count": 22,
   "id": "2779bd96-1be4-4662-9315-0842fd05c5db",
   "metadata": {},
   "outputs": [
    {
     "data": {
      "text/plain": [
       "1      377\n",
       "2      118\n",
       "5       77\n",
       "4       30\n",
       "11      13\n",
       "10      11\n",
       "9       10\n",
       "8        3\n",
       "6        2\n",
       "7        2\n",
       "125      2\n",
       "99       2\n",
       "91       1\n",
       "108      1\n",
       "101      1\n",
       "21       1\n",
       "83       1\n",
       "47       1\n",
       "39       1\n",
       "25       1\n",
       "116      1\n",
       "114      1\n",
       "459      1\n",
       "450      1\n",
       "154      1\n",
       "381      1\n",
       "217      1\n",
       "203      1\n",
       "194      1\n",
       "185      1\n",
       "183      1\n",
       "176      1\n",
       "155      1\n",
       "148      1\n",
       "124      1\n",
       "147      1\n",
       "146      1\n",
       "141      1\n",
       "137      1\n",
       "131      1\n",
       "130      1\n",
       "127      1\n",
       "126      1\n",
       "123      1\n",
       "Name: rewardsReceiptItemList, dtype: int64"
      ]
     },
     "execution_count": 22,
     "metadata": {},
     "output_type": "execute_result"
    }
   ],
   "source": [
    "item_lists.apply(lambda x: len(x)).value_counts()"
   ]
  },
  {
   "cell_type": "markdown",
   "id": "be1d6713-4063-4a8f-946d-d8287d914306",
   "metadata": {},
   "source": [
    "Huh.. many have more than one item, and some have a lot of items."
   ]
  },
  {
   "cell_type": "code",
   "execution_count": 23,
   "id": "a9fdfb43-c67f-4eae-b8d6-1f54664857e0",
   "metadata": {},
   "outputs": [
    {
     "data": {
      "text/plain": [
       "{'barcode': '4011',\n",
       " 'description': 'ITEM NOT FOUND',\n",
       " 'finalPrice': '26.00',\n",
       " 'itemPrice': '26.00',\n",
       " 'needsFetchReview': False,\n",
       " 'partnerItemId': '1',\n",
       " 'preventTargetGapPoints': True,\n",
       " 'quantityPurchased': 5,\n",
       " 'userFlaggedBarcode': '4011',\n",
       " 'userFlaggedNewItem': True,\n",
       " 'userFlaggedPrice': '26.00',\n",
       " 'userFlaggedQuantity': 5}"
      ]
     },
     "execution_count": 23,
     "metadata": {},
     "output_type": "execute_result"
    }
   ],
   "source": [
    "item_lists[0][0]"
   ]
  },
  {
   "cell_type": "code",
   "execution_count": 24,
   "id": "e7df5606-aaeb-4906-b2b9-b8d50e3944b1",
   "metadata": {},
   "outputs": [],
   "source": [
    "barcodes = []\n",
    "for lst in item_lists:\n",
    "    for item in lst:\n",
    "        try:\n",
    "            item['barcode']\n",
    "            barcodes.append(item['barcode'])\n",
    "        except:\n",
    "            continue"
   ]
  },
  {
   "cell_type": "code",
   "execution_count": 25,
   "id": "8ce5b9c0-3503-4e99-9cca-81684fed5b0e",
   "metadata": {},
   "outputs": [
    {
     "name": "stdout",
     "output_type": "stream",
     "text": [
      "3090\n",
      "['4011', '4011', '028400642255', '4011', '4011', '1234', '4011', '046000832517', '4011', '4011']\n"
     ]
    }
   ],
   "source": [
    "print(len(barcodes))\n",
    "print(barcodes[:10])"
   ]
  },
  {
   "cell_type": "markdown",
   "id": "8899e576-ffdf-4bb3-8002-57887684cd22",
   "metadata": {},
   "source": [
    "Okay, now time to see if these bar codes pop up in any of the brand barcodes."
   ]
  },
  {
   "cell_type": "code",
   "execution_count": 26,
   "id": "42d5b78d-5f50-4c48-a8bb-89f5d8fde41a",
   "metadata": {},
   "outputs": [],
   "source": [
    "brands_df['inBarcodes'] = brands_df.barcode.apply(lambda x: 1 if x in barcodes else 0)"
   ]
  },
  {
   "cell_type": "code",
   "execution_count": 27,
   "id": "0d614a21-811e-4b35-97cf-f92e0a129ff0",
   "metadata": {},
   "outputs": [
    {
     "data": {
      "text/plain": [
       "0    1167\n",
       "Name: inBarcodes, dtype: int64"
      ]
     },
     "execution_count": 27,
     "metadata": {},
     "output_type": "execute_result"
    }
   ],
   "source": [
    "brands_df.inBarcodes.value_counts()"
   ]
  },
  {
   "cell_type": "markdown",
   "id": "7cfb2e28-416c-4340-9bc5-96cf1ceb23dd",
   "metadata": {},
   "source": [
    "Okay, so it doesn't seem like you can join the tables in this manner. I do have one more quick thing to try, which is to see if there are any keys in any of the item lists that are anything like brand."
   ]
  },
  {
   "cell_type": "code",
   "execution_count": 28,
   "id": "be43fd9c-25d9-4f56-a783-a764e9542ffc",
   "metadata": {},
   "outputs": [],
   "source": [
    "unique_keys = []\n",
    "for lst in item_lists:\n",
    "    for item in lst:\n",
    "        for key in item.keys():\n",
    "            if key not in unique_keys:\n",
    "                unique_keys.append(key)\n",
    "            "
   ]
  },
  {
   "cell_type": "code",
   "execution_count": 29,
   "id": "79d7115b-14d1-47b8-ae02-0ab4f00dd7b0",
   "metadata": {},
   "outputs": [
    {
     "data": {
      "text/plain": [
       "['barcode',\n",
       " 'description',\n",
       " 'finalPrice',\n",
       " 'itemPrice',\n",
       " 'needsFetchReview',\n",
       " 'partnerItemId',\n",
       " 'preventTargetGapPoints',\n",
       " 'quantityPurchased',\n",
       " 'userFlaggedBarcode',\n",
       " 'userFlaggedNewItem',\n",
       " 'userFlaggedPrice',\n",
       " 'userFlaggedQuantity',\n",
       " 'needsFetchReviewReason',\n",
       " 'pointsNotAwardedReason',\n",
       " 'pointsPayerId',\n",
       " 'rewardsGroup',\n",
       " 'rewardsProductPartnerId',\n",
       " 'userFlaggedDescription',\n",
       " 'originalMetaBriteBarcode',\n",
       " 'originalMetaBriteDescription',\n",
       " 'brandCode',\n",
       " 'competitorRewardsGroup',\n",
       " 'discountedItemPrice',\n",
       " 'originalReceiptItemText',\n",
       " 'itemNumber',\n",
       " 'originalMetaBriteQuantityPurchased',\n",
       " 'pointsEarned',\n",
       " 'targetPrice',\n",
       " 'competitiveProduct',\n",
       " 'originalFinalPrice',\n",
       " 'originalMetaBriteItemPrice',\n",
       " 'deleted',\n",
       " 'priceAfterCoupon',\n",
       " 'metabriteCampaignId']"
      ]
     },
     "execution_count": 29,
     "metadata": {},
     "output_type": "execute_result"
    }
   ],
   "source": [
    "unique_keys"
   ]
  },
  {
   "cell_type": "markdown",
   "id": "dc9265bf-17ec-4bbd-a6fc-873ff34604cd",
   "metadata": {},
   "source": [
    "Huh okay, so some do contain `brandCode`. We can check that."
   ]
  },
  {
   "cell_type": "code",
   "execution_count": 30,
   "id": "d681607c-39d2-4f18-b3d6-6de7cab5509f",
   "metadata": {},
   "outputs": [],
   "source": [
    "brandCodes = []\n",
    "for lst in item_lists:\n",
    "    for item in lst:\n",
    "        try:\n",
    "            item['brandCode']\n",
    "            brandCodes.append(item['brandCode'])\n",
    "        except:\n",
    "            continue"
   ]
  },
  {
   "cell_type": "code",
   "execution_count": 31,
   "id": "0ea0cf59-0968-4819-b6c2-061ca4c0d358",
   "metadata": {},
   "outputs": [
    {
     "name": "stdout",
     "output_type": "stream",
     "text": [
      "2600\n",
      "['MISSION', 'BRAND', 'KRAFT EASY CHEESE', 'PEPSI', 'DORITOS', 'KLEENEX', 'WINGSTOP', 'WINGSTOP', 'BRAND', 'BRAND']\n",
      "227\n"
     ]
    }
   ],
   "source": [
    "print(len(brandCodes))\n",
    "print(brandCodes[:10])\n",
    "print(pd.Series(brandCodes).nunique())"
   ]
  },
  {
   "cell_type": "code",
   "execution_count": 32,
   "id": "f836637d-420a-470b-abf1-7d2156e06d44",
   "metadata": {},
   "outputs": [
    {
     "name": "stdout",
     "output_type": "stream",
     "text": [
      "0    1125\n",
      "1      42\n",
      "Name: inBrandCodes, dtype: int64\n",
      "0    1164\n",
      "1       3\n",
      "Name: inBrandName, dtype: int64\n"
     ]
    }
   ],
   "source": [
    "brands_df['inBrandCodes'] = brands_df.brandCode.apply(lambda x: 1 if x in brandCodes else 0)\n",
    "brands_df['inBrandName'] = brands_df.name.apply(lambda x: 1 if x in brandCodes else 0)\n",
    "print(brands_df.inBrandCodes.value_counts())\n",
    "print(brands_df.inBrandName.value_counts())"
   ]
  },
  {
   "cell_type": "markdown",
   "id": "6a2f8049-c7aa-4329-9daf-60a02b6b2488",
   "metadata": {},
   "source": [
    "Wow! So we found a few. I'm guessing the few in `name` are some of the ones where the brand code and name are equivalent. It seems that these files are maybe subsections of a full database, so maybe this would be a decent way to join the brands and receipts tables.. however, we have also seen that some item lists do not contain `brandCode`, so it wouldn't always work. Improving the consistency of this connection would benefit our database structure. One way this could be done is by adding brands on sold items that arent already in our brand table to the table, being careful not to duplicate brands. Knowing that the brands table also connects to a products table and CPG table, maybe there are ways to join to the receipts table that are easier and more obvious, such as through the prdoucts/items table. Also, having a list of all the possible keys in `rewardsReceiptItemList` again begs the question of what is really important and what should we keep, and for the ones that are important, why don't they appear in all of the entries?"
   ]
  },
  {
   "cell_type": "markdown",
   "id": "e4ce67f1-3907-4bd3-9769-9e2f3ecadf85",
   "metadata": {},
   "source": [
    "## Summary of Data Evaluation"
   ]
  },
  {
   "cell_type": "markdown",
   "id": "ba3173e0-4f8a-4399-bd03-8a293099e5d9",
   "metadata": {},
   "source": [
    "We were provided with some questions to lead our communication with our stakeholders. We will use them here to summarize our thoughts regarding the explored data.\n",
    "\n",
    "1. What questions do you have about the data?\n",
    "\n",
    "    There is a long list, but my main questions revolve around the way the data is collected, what the company uses the data for now and what they imagine it might be useful for in the future. The first, because it will help with issues in how the data is stored, such as data existing in nested structures which makes accessing complicated. Can we extract the useful information, such as the id string, from these structures? We can improve the step where we extract the data, or the step where we process it for loading into the database, to make sure it is easily useable when retrieved. The last two questions, because they will inform what we need to continue retrieving, and how to best structure it in storage, again so that retrieval is easy and comprehensible when analysis needs to be done. For example, in the rewardsReceiptsItemsList column, which contains all the bought items from that receipt, there are many unique bits of information, depending on the item. What is useful to keep, and how can we make it more obvious that that information exists? Finally, for some specific questions, the questions 1, 2, 5, and 6 asked by the stakeholder can technically be answered, but as I have discovered, brand information is linked to so few items purchased, so the answer wouldn't necessarily be representative of the entire data collection. How can we make sure that this information is collected for more items going forward?\n",
    "    \n",
    "2. How did you discover the data quality issues?\n",
    "    \n",
    "    I discovered the data quality issues by loading the data from the given files into pandas dataframes in python, where I could easily view and work with them. I then was able to see the values in the different columns, as well as explore missing and duplicate values, as well as manipulate entries to check for relationships between columns within the same table and across tables.\n",
    "    \n",
    "3. What do you need to know to resolve the data quality issues?\n",
    "\n",
    "    I need to know what the data is being used for and what information is important to retain. With those answers, I can reduce redundancy and remove irrelevant information. Besides that, working with the step of the process where the data is retrieved I can improve data quality before it is entered into tables, eliminating issues with respect to how information is stored and making sure desirable features are present.\n",
    "    \n",
    "4. What other information would you need to help you optimize the data assets you're trying to create?\n",
    "\n",
    "    Information from the referenced Product and CPG tables would be useful, as well as what the date codes in the various date columns translate to.\n",
    "\n",
    "5. What performance and scaling concerns do you anticipate in production and how do you plan to address them?\n",
    "\n",
    "    By resolving issues with data integrity, we future proof data storage. If we confirm what information we currently need and what we may need and what will be actionable on in the future, we can make sure we aren't taking up space storing unnecessary data. Further, if the data is stored in an easily comprehensible way, it will eliminate problems in the future related to troubleshooting due to poor quality or confusing structure. As the number of entries grows, it becomes harder to nail down incorrect entries and understand why data isn't being accessed when expected, so getting it right at the small scale helps manage the rise of issues in the future. I plan to address current problems by narrowing down the collected information and documenting and structuring it clearly. For example, I suggest creating a new table for the database with all individual items sold, with receipt_id as a key that you can join to the receipts table to make that information more visible, along with nailing down the columns that should be present in that table.\n"
   ]
  },
  {
   "cell_type": "markdown",
   "id": "54bca0f4-9367-461e-b3a9-28b5cf4df8b0",
   "metadata": {},
   "source": [
    "### Getting dataframe for answering business questions 3 and 4"
   ]
  },
  {
   "cell_type": "markdown",
   "id": "cf9242a8-e6a1-4316-96da-70528bfa6da8",
   "metadata": {},
   "source": [
    "While the SQL query would get this answer should all the information be stored in a database, I can quickly use the dataframes to answer the question as well. I'll do this to be able to provide an answer in the email to the stakeholder."
   ]
  },
  {
   "cell_type": "code",
   "execution_count": 33,
   "id": "cfbab714-54de-4c4d-ba1b-c4b97a3e242e",
   "metadata": {},
   "outputs": [],
   "source": [
    "receipts_acc_rej = receipts_df[['rewardsReceiptStatus','purchasedItemCount','totalSpent']].loc[(receipts_df['rewardsReceiptStatus'] == 'FINISHED')\n",
    "                                   | (receipts_df['rewardsReceiptStatus'] == 'REJECTED')]"
   ]
  },
  {
   "cell_type": "code",
   "execution_count": 34,
   "id": "c0eb4b0d-23c1-4655-b542-6185d66629cc",
   "metadata": {},
   "outputs": [
    {
     "data": {
      "text/html": [
       "<div>\n",
       "<style scoped>\n",
       "    .dataframe tbody tr th:only-of-type {\n",
       "        vertical-align: middle;\n",
       "    }\n",
       "\n",
       "    .dataframe tbody tr th {\n",
       "        vertical-align: top;\n",
       "    }\n",
       "\n",
       "    .dataframe thead th {\n",
       "        text-align: right;\n",
       "    }\n",
       "</style>\n",
       "<table border=\"1\" class=\"dataframe\">\n",
       "  <thead>\n",
       "    <tr style=\"text-align: right;\">\n",
       "      <th></th>\n",
       "      <th>rewardsReceiptStatus</th>\n",
       "      <th>purchasedItemCount</th>\n",
       "      <th>totalSpent</th>\n",
       "    </tr>\n",
       "  </thead>\n",
       "  <tbody>\n",
       "    <tr>\n",
       "      <th>0</th>\n",
       "      <td>FINISHED</td>\n",
       "      <td>5.0</td>\n",
       "      <td>26.0</td>\n",
       "    </tr>\n",
       "    <tr>\n",
       "      <th>1</th>\n",
       "      <td>FINISHED</td>\n",
       "      <td>2.0</td>\n",
       "      <td>11.0</td>\n",
       "    </tr>\n",
       "    <tr>\n",
       "      <th>2</th>\n",
       "      <td>REJECTED</td>\n",
       "      <td>1.0</td>\n",
       "      <td>10.0</td>\n",
       "    </tr>\n",
       "    <tr>\n",
       "      <th>3</th>\n",
       "      <td>FINISHED</td>\n",
       "      <td>4.0</td>\n",
       "      <td>28.0</td>\n",
       "    </tr>\n",
       "    <tr>\n",
       "      <th>4</th>\n",
       "      <td>FINISHED</td>\n",
       "      <td>2.0</td>\n",
       "      <td>1.0</td>\n",
       "    </tr>\n",
       "  </tbody>\n",
       "</table>\n",
       "</div>"
      ],
      "text/plain": [
       "  rewardsReceiptStatus  purchasedItemCount  totalSpent\n",
       "0             FINISHED                 5.0        26.0\n",
       "1             FINISHED                 2.0        11.0\n",
       "2             REJECTED                 1.0        10.0\n",
       "3             FINISHED                 4.0        28.0\n",
       "4             FINISHED                 2.0         1.0"
      ]
     },
     "execution_count": 34,
     "metadata": {},
     "output_type": "execute_result"
    }
   ],
   "source": [
    "receipts_acc_rej.head()"
   ]
  },
  {
   "cell_type": "code",
   "execution_count": 35,
   "id": "c35f6539-afad-4743-a2c4-d0dfdf5ab090",
   "metadata": {},
   "outputs": [
    {
     "data": {
      "text/plain": [
       "FINISHED    518\n",
       "REJECTED     71\n",
       "Name: rewardsReceiptStatus, dtype: int64"
      ]
     },
     "execution_count": 35,
     "metadata": {},
     "output_type": "execute_result"
    }
   ],
   "source": [
    "receipts_acc_rej.rewardsReceiptStatus.value_counts()"
   ]
  },
  {
   "cell_type": "code",
   "execution_count": 36,
   "id": "535eb0c9-6e55-4db1-9a7a-8d46b6b3f4a6",
   "metadata": {},
   "outputs": [],
   "source": [
    "acc_rej_summary = receipts_acc_rej.groupby('rewardsReceiptStatus').agg(\n",
    "    average_spend = ('totalSpent', 'mean'), total_items_purchased = ('purchasedItemCount','sum'))"
   ]
  },
  {
   "cell_type": "code",
   "execution_count": 37,
   "id": "755c7dbd-8c23-4420-be2f-52c6a1dc63ce",
   "metadata": {},
   "outputs": [
    {
     "data": {
      "text/html": [
       "<div>\n",
       "<style scoped>\n",
       "    .dataframe tbody tr th:only-of-type {\n",
       "        vertical-align: middle;\n",
       "    }\n",
       "\n",
       "    .dataframe tbody tr th {\n",
       "        vertical-align: top;\n",
       "    }\n",
       "\n",
       "    .dataframe thead th {\n",
       "        text-align: right;\n",
       "    }\n",
       "</style>\n",
       "<table border=\"1\" class=\"dataframe\">\n",
       "  <thead>\n",
       "    <tr style=\"text-align: right;\">\n",
       "      <th></th>\n",
       "      <th>average_spend</th>\n",
       "      <th>total_items_purchased</th>\n",
       "    </tr>\n",
       "    <tr>\n",
       "      <th>rewardsReceiptStatus</th>\n",
       "      <th></th>\n",
       "      <th></th>\n",
       "    </tr>\n",
       "  </thead>\n",
       "  <tbody>\n",
       "    <tr>\n",
       "      <th>FINISHED</th>\n",
       "      <td>80.854305</td>\n",
       "      <td>8184.0</td>\n",
       "    </tr>\n",
       "    <tr>\n",
       "      <th>REJECTED</th>\n",
       "      <td>23.326056</td>\n",
       "      <td>173.0</td>\n",
       "    </tr>\n",
       "  </tbody>\n",
       "</table>\n",
       "</div>"
      ],
      "text/plain": [
       "                      average_spend  total_items_purchased\n",
       "rewardsReceiptStatus                                      \n",
       "FINISHED                  80.854305                 8184.0\n",
       "REJECTED                  23.326056                  173.0"
      ]
     },
     "execution_count": 37,
     "metadata": {},
     "output_type": "execute_result"
    }
   ],
   "source": [
    "acc_rej_summary"
   ]
  },
  {
   "cell_type": "code",
   "execution_count": 38,
   "id": "fe935fb9-4859-416b-9901-cc2af648aede",
   "metadata": {},
   "outputs": [],
   "source": [
    "acc_rej_summary.index = ['ACCEPTED', 'REJECTED']"
   ]
  },
  {
   "cell_type": "code",
   "execution_count": 39,
   "id": "f2574037-4b61-4094-97fa-a830dc1c0a47",
   "metadata": {},
   "outputs": [
    {
     "data": {
      "text/html": [
       "<div>\n",
       "<style scoped>\n",
       "    .dataframe tbody tr th:only-of-type {\n",
       "        vertical-align: middle;\n",
       "    }\n",
       "\n",
       "    .dataframe tbody tr th {\n",
       "        vertical-align: top;\n",
       "    }\n",
       "\n",
       "    .dataframe thead th {\n",
       "        text-align: right;\n",
       "    }\n",
       "</style>\n",
       "<table border=\"1\" class=\"dataframe\">\n",
       "  <thead>\n",
       "    <tr style=\"text-align: right;\">\n",
       "      <th></th>\n",
       "      <th>average_spend</th>\n",
       "      <th>total_items_purchased</th>\n",
       "    </tr>\n",
       "  </thead>\n",
       "  <tbody>\n",
       "    <tr>\n",
       "      <th>ACCEPTED</th>\n",
       "      <td>80.854305</td>\n",
       "      <td>8184.0</td>\n",
       "    </tr>\n",
       "    <tr>\n",
       "      <th>REJECTED</th>\n",
       "      <td>23.326056</td>\n",
       "      <td>173.0</td>\n",
       "    </tr>\n",
       "  </tbody>\n",
       "</table>\n",
       "</div>"
      ],
      "text/plain": [
       "          average_spend  total_items_purchased\n",
       "ACCEPTED      80.854305                 8184.0\n",
       "REJECTED      23.326056                  173.0"
      ]
     },
     "execution_count": 39,
     "metadata": {},
     "output_type": "execute_result"
    }
   ],
   "source": [
    "acc_rej_summary"
   ]
  }
 ],
 "metadata": {
  "kernelspec": {
   "display_name": "learn-env",
   "language": "python",
   "name": "learn-env"
  },
  "language_info": {
   "codemirror_mode": {
    "name": "ipython",
    "version": 3
   },
   "file_extension": ".py",
   "mimetype": "text/x-python",
   "name": "python",
   "nbconvert_exporter": "python",
   "pygments_lexer": "ipython3",
   "version": "3.8.5"
  }
 },
 "nbformat": 4,
 "nbformat_minor": 5
}
