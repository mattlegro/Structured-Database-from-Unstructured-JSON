{
 "cells": [
  {
   "cell_type": "markdown",
   "metadata": {},
   "source": [
    "# This Notebook"
   ]
  },
  {
   "cell_type": "markdown",
   "metadata": {},
   "source": [
    "In this notebook, we'll answer requirement number 2 from the Data Evaluation Notebook:\n",
    "\n",
    "2. Query the Database using SQL to provide business intelligence\n",
    "\n",
    "The business questions we can answer for our stakeholder include:\n",
    "\n",
    "1. What are the top 5 brands by receipts scanned for most recent month?\n",
    "2. How does the ranking of the top 5 brands by receipts scanned for the recent month compare to the ranking for the previous month?\n",
    "3. When considering average spend from receipts with 'rewardsReceiptStatus’ of ‘Accepted’ or ‘Rejected’, which is greater?\n",
    "4. When considering total number of items purchased from receipts with 'rewardsReceiptStatus’ of ‘Accepted’ or ‘Rejected’, which is greater?\n",
    "5. Which brand has the most spend among users who were created within the past 6 months?\n",
    "6. Which brand has the most transactions among users who were created within the past 6 months?\n",
    "\n",
    "Referencing our understanding gained in the Data Evaluation notebook and the constructed SQL Schema, we will use the following query to answer questions 3 and 4 using PostgreSQL 9.6. This query assumes that the data in its current form has been cleaned based on communication between the analyst and the stakeholder, and that the table structure within the database is as in the submitted schema. For example, I will take the liberty of assuming that 'FINISHED' in the `rewardsReceiptStatus` column means the same thing as and has been changed to 'ACCEPTED' in the database."
   ]
  },
  {
   "cell_type": "code",
   "execution_count": 102,
   "metadata": {},
   "outputs": [],
   "source": [
    "# SELECT rewardsReceiptStatus, \n",
    "#        AVG(totalSpent) AS average_spend,\n",
    "#        COUNT(rewardsReceiptStatus) AS total_items\n",
    "# FROM receipts\n",
    "# WHERE rewardsReceiptStatus = 'ACCEPTED' OR rewardsReceiptStatus = 'REJECTED'\n",
    "# GROUP BY rewardsReceiptStatus"
   ]
  },
  {
   "cell_type": "markdown",
   "metadata": {},
   "source": [
    "This will return a table with rows 'ACCEPTED' and 'REJECTED' and columns 'average_spend' and 'total_items', ignoring rows from `receipts` that do not fall into either category, which will allow us to compare the quantities for each between the two groups and thus answer questions 3 and 4. For answers to these questions, see the bottom of the data evaluation notebook."
   ]
  }
 ],
 "metadata": {
  "kernelspec": {
   "display_name": "learn-env",
   "language": "python",
   "name": "learn-env"
  },
  "language_info": {
   "codemirror_mode": {
    "name": "ipython",
    "version": 3
   },
   "file_extension": ".py",
   "mimetype": "text/x-python",
   "name": "python",
   "nbconvert_exporter": "python",
   "pygments_lexer": "ipython3",
   "version": "3.8.5"
  }
 },
 "nbformat": 4,
 "nbformat_minor": 5
}
